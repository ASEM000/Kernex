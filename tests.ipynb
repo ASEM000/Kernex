{
 "cells": [
  {
   "cell_type": "code",
   "execution_count": null,
   "metadata": {},
   "outputs": [],
   "source": [
    "import jax\n",
    "import jax.numpy as jnp\n",
    "from kernex._src.utils import general_arange, general_product\n",
    "import functools as ft"
   ]
  },
  {
   "cell_type": "code",
   "execution_count": null,
   "metadata": {},
   "outputs": [],
   "source": [
    "@ft.lru_cache(maxsize=None)\n",
    "def views(shape, kernel_size, strides, border) -> tuple[jnp.ndarray, ...]:\n",
    "    \"\"\"Generate absolute sampling matrix\"\"\"\n",
    "    # this function is cached because it is called multiple times\n",
    "    # and it is expensive to calculate\n",
    "    # the view is the indices of the array that is used to calculate\n",
    "    # the output value\n",
    "    dim_range = tuple(\n",
    "        general_arange(di, ki, si, x0, xf)\n",
    "        for (di, ki, si, (x0, xf)) in zip(shape, kernel_size, strides, border)\n",
    "    )\n",
    "    matrix = general_product(*dim_range)\n",
    "    return tuple(map(lambda xi, wi: xi.reshape(-1, wi), matrix, kernel_size))"
   ]
  }
 ],
 "metadata": {
  "language_info": {
   "name": "python"
  },
  "orig_nbformat": 4
 },
 "nbformat": 4,
 "nbformat_minor": 2
}
